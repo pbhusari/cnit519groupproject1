{
 "cells": [
  {
   "cell_type": "markdown",
   "source": [
    "# Group Project 1: Detection"
   ],
   "metadata": {
    "collapsed": false,
    "pycharm": {
     "name": "#%% md\n"
    }
   }
  },
  {
   "cell_type": "markdown",
   "source": [
    "## Creation of Dataset"
   ],
   "metadata": {
    "collapsed": false,
    "pycharm": {
     "name": "#%% md\n"
    }
   }
  },
  {
   "cell_type": "code",
   "execution_count": 5,
   "metadata": {
    "collapsed": true,
    "pycharm": {
     "name": "#%%\n"
    }
   },
   "outputs": [
    {
     "data": {
      "text/plain": "            word  punStatus        pronunciation\n0              '          O        PUNCTUATION_'\n1              '          O        PUNCTUATION_'\n2              I          O              UNKNOWN\n3              '          O        PUNCTUATION_'\n4              m          O                EH1,M\n...          ...        ...                  ...\n19723   circular          O  S,ER1,K,Y,AH0,L,ER0\n19724      sores          P            S,AO1,R,Z\n19725          !          O        PUNCTUATION_!\n19726  <sentEnd>  <sentEnd>            <sentEnd>\n19727  <sentEnd>  <sentEnd>            <sentEnd>\n\n[19728 rows x 3 columns]",
      "text/html": "<div>\n<style scoped>\n    .dataframe tbody tr th:only-of-type {\n        vertical-align: middle;\n    }\n\n    .dataframe tbody tr th {\n        vertical-align: top;\n    }\n\n    .dataframe thead th {\n        text-align: right;\n    }\n</style>\n<table border=\"1\" class=\"dataframe\">\n  <thead>\n    <tr style=\"text-align: right;\">\n      <th></th>\n      <th>word</th>\n      <th>punStatus</th>\n      <th>pronunciation</th>\n    </tr>\n  </thead>\n  <tbody>\n    <tr>\n      <th>0</th>\n      <td>'</td>\n      <td>O</td>\n      <td>PUNCTUATION_'</td>\n    </tr>\n    <tr>\n      <th>1</th>\n      <td>'</td>\n      <td>O</td>\n      <td>PUNCTUATION_'</td>\n    </tr>\n    <tr>\n      <th>2</th>\n      <td>I</td>\n      <td>O</td>\n      <td>UNKNOWN</td>\n    </tr>\n    <tr>\n      <th>3</th>\n      <td>'</td>\n      <td>O</td>\n      <td>PUNCTUATION_'</td>\n    </tr>\n    <tr>\n      <th>4</th>\n      <td>m</td>\n      <td>O</td>\n      <td>EH1,M</td>\n    </tr>\n    <tr>\n      <th>...</th>\n      <td>...</td>\n      <td>...</td>\n      <td>...</td>\n    </tr>\n    <tr>\n      <th>19723</th>\n      <td>circular</td>\n      <td>O</td>\n      <td>S,ER1,K,Y,AH0,L,ER0</td>\n    </tr>\n    <tr>\n      <th>19724</th>\n      <td>sores</td>\n      <td>P</td>\n      <td>S,AO1,R,Z</td>\n    </tr>\n    <tr>\n      <th>19725</th>\n      <td>!</td>\n      <td>O</td>\n      <td>PUNCTUATION_!</td>\n    </tr>\n    <tr>\n      <th>19726</th>\n      <td>&lt;sentEnd&gt;</td>\n      <td>&lt;sentEnd&gt;</td>\n      <td>&lt;sentEnd&gt;</td>\n    </tr>\n    <tr>\n      <th>19727</th>\n      <td>&lt;sentEnd&gt;</td>\n      <td>&lt;sentEnd&gt;</td>\n      <td>&lt;sentEnd&gt;</td>\n    </tr>\n  </tbody>\n</table>\n<p>19728 rows × 3 columns</p>\n</div>"
     },
     "execution_count": 5,
     "metadata": {},
     "output_type": "execute_result"
    }
   ],
   "source": [
    "import pandas as pd\n",
    "header_list = ['word', 'punStatus', 'pronunciation']\n",
    "ingestionDataFrameHete = pd.read_csv(\"./data/concatTrainHete.txt\", sep=\" \", names=header_list)\n",
    "ingestionDataFrameHom = pd.read_csv(\"./data/concatTrainHom.txt\", sep=\" \", names=header_list)\n",
    "ingestionDataFrameHete"
   ]
  },
  {
   "cell_type": "markdown",
   "source": [
    "Ideally we would have a json with the following format\n",
    "\n",
    "`{\"prompt\": \"<pun text>\", \"completion\": \"<pun word>\"}`\n",
    "\n",
    "Dataframe will look something like this\n",
    "\n",
    "| prompt | punWord |\n",
    "\n"
   ],
   "metadata": {
    "collapsed": false,
    "pycharm": {
     "name": "#%% md\n"
    }
   }
  },
  {
   "cell_type": "code",
   "execution_count": 43,
   "outputs": [],
   "source": [
    "gpt3dataFrameHete = pd.DataFrame(columns=[\"prompt\", \"punWord\"])\n",
    "\n",
    "prompt = \"\"\n",
    "punWord = \"\"\n",
    "\n",
    "for index, row in ingestionDataFrameHete.iterrows():\n",
    "    word = row[\"word\"]\n",
    "    punStatus = row[\"punStatus\"]\n",
    "\n",
    "    if word == \"<sentEnd>\":\n",
    "        prompt = prompt.replace(\"\\'\\'\", \"\\\"\")\n",
    "        prompt = prompt.replace(\"\\' \", \"\\'\")\n",
    "        prompt = prompt.replace(\"\\\" \", \"\\\"\")\n",
    "        prompt = prompt.replace(\"- \", \"-\")\n",
    "        prompt = prompt.replace(',\"', ',\" ')\n",
    "        prompt = prompt.replace(',\\'', ',\\' ')\n",
    "        appendDict = {\"prompt\":prompt, \"punWord\":punWord}\n",
    "        tempAddDf = pd.DataFrame([appendDict])\n",
    "        gpt3dataFrameHete = pd.concat([gpt3dataFrameHete, tempAddDf], ignore_index=True)\n",
    "\n",
    "        prompt = \"\"\n",
    "        punWord = \"\"\n",
    "    else:\n",
    "        if \"PUNCTUATION\" in row[\"pronunciation\"]:\n",
    "            prompt = prompt + word\n",
    "        else:\n",
    "            prompt = prompt + \" \" + word\n",
    "        if punStatus == \"P\":\n",
    "            punWord = word"
   ],
   "metadata": {
    "collapsed": false,
    "pycharm": {
     "name": "#%%\n"
    }
   }
  },
  {
   "cell_type": "code",
   "execution_count": 44,
   "outputs": [],
   "source": [
    "gpt3dataFrameHom = pd.DataFrame(columns=[\"prompt\", \"punWord\"])\n",
    "\n",
    "prompt = \"\"\n",
    "punWord = \"\"\n",
    "\n",
    "for index, row in ingestionDataFrameHom.iterrows():\n",
    "    word = row[\"word\"]\n",
    "    punStatus = row[\"punStatus\"]\n",
    "\n",
    "    if word == \"<sentEnd>\":\n",
    "        prompt = prompt.replace(\"\\'\\'\", \"\\\"\")\n",
    "        prompt = prompt.replace(\"\\' \", \"\\'\")\n",
    "        prompt = prompt.replace(\"\\\" \", \"\\\"\")\n",
    "        prompt = prompt.replace(\"- \", \"-\")\n",
    "        prompt = prompt.replace(',\"', ',\" ')\n",
    "        prompt = prompt.replace(',\\'', ',\\' ')\n",
    "        appendDict = {\"prompt\":prompt, \"punWord\":punWord}\n",
    "        tempAddDf = pd.DataFrame([appendDict])\n",
    "        gpt3dataFrameHom = pd.concat([gpt3dataFrameHom, tempAddDf], ignore_index=True)\n",
    "\n",
    "        prompt = \"\"\n",
    "        punWord = \"\"\n",
    "    else:\n",
    "        if \"PUNCTUATION\" in row[\"pronunciation\"]:\n",
    "            prompt = prompt + word\n",
    "        else:\n",
    "            prompt = prompt + \" \" + word\n",
    "        if punStatus == \"P\":\n",
    "            punWord = word"
   ],
   "metadata": {
    "collapsed": false,
    "pycharm": {
     "name": "#%%\n"
    }
   }
  },
  {
   "cell_type": "markdown",
   "source": [
    "### Merge two datasets together"
   ],
   "metadata": {
    "collapsed": false,
    "pycharm": {
     "name": "#%% md\n"
    }
   }
  },
  {
   "cell_type": "code",
   "execution_count": 45,
   "outputs": [],
   "source": [
    "gpt3dataFrame = pd.concat([gpt3dataFrameHete, gpt3dataFrameHom], ignore_index=True)\n",
    "gpt3dataFrame = gpt3dataFrame.drop_duplicates()\n",
    "gpt3dataFrame = gpt3dataFrame.rename(columns={'punWord':'completion'})"
   ],
   "metadata": {
    "collapsed": false,
    "pycharm": {
     "name": "#%%\n"
    }
   }
  },
  {
   "cell_type": "markdown",
   "source": [
    "## Untrained Model Evaluation"
   ],
   "metadata": {
    "collapsed": false,
    "pycharm": {
     "name": "#%% md\n"
    }
   }
  },
  {
   "cell_type": "code",
   "execution_count": 42,
   "outputs": [
    {
     "data": {
      "text/plain": "   errorIndex     errorWord        realWord  \\\n0         267         mount     hilariously   \n1        1246        mother           abbie   \n2         672   investments  appreciatively   \n3          95       funeral        mourning   \n4         821     injection            vain   \n5         839      operatic        placidly   \n6         354           joy            junk   \n7         944        memory           wrote   \n8         975         death            wife   \n9         475       against             foe   \n10        733      marathon       hamstring   \n11        940        social       dolefully   \n12        917         toads           pipal   \n13        897       glutton      insinuated   \n14        302       pyramid          screen   \n15        736      opulence            chic   \n16       1160           tin         cannily   \n17        543          cult            lyes   \n18       1120  coincidental       guerrilla   \n19       1262   constrictor      serpentine   \n20        474         grape           whine   \n21        555        common       basically   \n22       1186         swine     influential   \n23        645          mink        inferred   \n24        199          heap         humerus   \n25        667        radium       curiously   \n26        148     graduated  diplomatically   \n27        748      emirates         catarrh   \n28       1148      claymore            mine   \n\n                                             sentence  \n0   \"I was the first to climb Mount Everest,\" said...  \n1            My name is Abbie. I'm a Mother Superior.  \n2    My investments are worth more every day, said...  \n3    He avoided funerals because he was not a mour...  \n4         \"I need an injection,\" Tom pleaded in vain.  \n5   \"Who's your favorite operatic tenor?\"Tom asked...  \n6    Those who find bargain antiques like to junk ...  \n7               \"This is all from memory,\" Tom wrote.  \n8           Shotgun wedding: A case of wife or death.  \n9    My friend is very paranoid. He says people ar...  \n10   Why did the pig quit running the marathon? He...  \n11      \"I'm on social security,\" said Tom dolefully.  \n12   Upon discovering the deadly virus carried by ...  \n13           You're a wicked glutton, Tom insinuated.  \n14   The triangular computer monitor business was ...  \n15   The Arab's opulence was obvious from his chic...  \n16   There's nothing to stop me putting things in ...  \n17   The soap-eating cult was swallowing lyes in s...  \n18   Scrambling for cover amid the chaos caused by...  \n19   My brother told me that serpentine is what yo...  \n20   What did the grape say when it got stepped on...  \n21  \"This is the most common language used on micr...  \n22   Swine were the most influential animal of the...  \n23            She must be wearing mink, Tom inferred.  \n24   Arriving late, Senator Kennedy slipped on a b...  \n25       \"Who discovered radium?\"asked Tom curiously.  \n26  \"Congratulations; you graduated,\" said Tom dip...  \n27   My chronically runny-nosed friend, who staunc...  \n28   When asked to picture the perfect modern defe...  ",
      "text/html": "<div>\n<style scoped>\n    .dataframe tbody tr th:only-of-type {\n        vertical-align: middle;\n    }\n\n    .dataframe tbody tr th {\n        vertical-align: top;\n    }\n\n    .dataframe thead th {\n        text-align: right;\n    }\n</style>\n<table border=\"1\" class=\"dataframe\">\n  <thead>\n    <tr style=\"text-align: right;\">\n      <th></th>\n      <th>errorIndex</th>\n      <th>errorWord</th>\n      <th>realWord</th>\n      <th>sentence</th>\n    </tr>\n  </thead>\n  <tbody>\n    <tr>\n      <th>0</th>\n      <td>267</td>\n      <td>mount</td>\n      <td>hilariously</td>\n      <td>\"I was the first to climb Mount Everest,\" said...</td>\n    </tr>\n    <tr>\n      <th>1</th>\n      <td>1246</td>\n      <td>mother</td>\n      <td>abbie</td>\n      <td>My name is Abbie. I'm a Mother Superior.</td>\n    </tr>\n    <tr>\n      <th>2</th>\n      <td>672</td>\n      <td>investments</td>\n      <td>appreciatively</td>\n      <td>My investments are worth more every day, said...</td>\n    </tr>\n    <tr>\n      <th>3</th>\n      <td>95</td>\n      <td>funeral</td>\n      <td>mourning</td>\n      <td>He avoided funerals because he was not a mour...</td>\n    </tr>\n    <tr>\n      <th>4</th>\n      <td>821</td>\n      <td>injection</td>\n      <td>vain</td>\n      <td>\"I need an injection,\" Tom pleaded in vain.</td>\n    </tr>\n    <tr>\n      <th>5</th>\n      <td>839</td>\n      <td>operatic</td>\n      <td>placidly</td>\n      <td>\"Who's your favorite operatic tenor?\"Tom asked...</td>\n    </tr>\n    <tr>\n      <th>6</th>\n      <td>354</td>\n      <td>joy</td>\n      <td>junk</td>\n      <td>Those who find bargain antiques like to junk ...</td>\n    </tr>\n    <tr>\n      <th>7</th>\n      <td>944</td>\n      <td>memory</td>\n      <td>wrote</td>\n      <td>\"This is all from memory,\" Tom wrote.</td>\n    </tr>\n    <tr>\n      <th>8</th>\n      <td>975</td>\n      <td>death</td>\n      <td>wife</td>\n      <td>Shotgun wedding: A case of wife or death.</td>\n    </tr>\n    <tr>\n      <th>9</th>\n      <td>475</td>\n      <td>against</td>\n      <td>foe</td>\n      <td>My friend is very paranoid. He says people ar...</td>\n    </tr>\n    <tr>\n      <th>10</th>\n      <td>733</td>\n      <td>marathon</td>\n      <td>hamstring</td>\n      <td>Why did the pig quit running the marathon? He...</td>\n    </tr>\n    <tr>\n      <th>11</th>\n      <td>940</td>\n      <td>social</td>\n      <td>dolefully</td>\n      <td>\"I'm on social security,\" said Tom dolefully.</td>\n    </tr>\n    <tr>\n      <th>12</th>\n      <td>917</td>\n      <td>toads</td>\n      <td>pipal</td>\n      <td>Upon discovering the deadly virus carried by ...</td>\n    </tr>\n    <tr>\n      <th>13</th>\n      <td>897</td>\n      <td>glutton</td>\n      <td>insinuated</td>\n      <td>You're a wicked glutton, Tom insinuated.</td>\n    </tr>\n    <tr>\n      <th>14</th>\n      <td>302</td>\n      <td>pyramid</td>\n      <td>screen</td>\n      <td>The triangular computer monitor business was ...</td>\n    </tr>\n    <tr>\n      <th>15</th>\n      <td>736</td>\n      <td>opulence</td>\n      <td>chic</td>\n      <td>The Arab's opulence was obvious from his chic...</td>\n    </tr>\n    <tr>\n      <th>16</th>\n      <td>1160</td>\n      <td>tin</td>\n      <td>cannily</td>\n      <td>There's nothing to stop me putting things in ...</td>\n    </tr>\n    <tr>\n      <th>17</th>\n      <td>543</td>\n      <td>cult</td>\n      <td>lyes</td>\n      <td>The soap-eating cult was swallowing lyes in s...</td>\n    </tr>\n    <tr>\n      <th>18</th>\n      <td>1120</td>\n      <td>coincidental</td>\n      <td>guerrilla</td>\n      <td>Scrambling for cover amid the chaos caused by...</td>\n    </tr>\n    <tr>\n      <th>19</th>\n      <td>1262</td>\n      <td>constrictor</td>\n      <td>serpentine</td>\n      <td>My brother told me that serpentine is what yo...</td>\n    </tr>\n    <tr>\n      <th>20</th>\n      <td>474</td>\n      <td>grape</td>\n      <td>whine</td>\n      <td>What did the grape say when it got stepped on...</td>\n    </tr>\n    <tr>\n      <th>21</th>\n      <td>555</td>\n      <td>common</td>\n      <td>basically</td>\n      <td>\"This is the most common language used on micr...</td>\n    </tr>\n    <tr>\n      <th>22</th>\n      <td>1186</td>\n      <td>swine</td>\n      <td>influential</td>\n      <td>Swine were the most influential animal of the...</td>\n    </tr>\n    <tr>\n      <th>23</th>\n      <td>645</td>\n      <td>mink</td>\n      <td>inferred</td>\n      <td>She must be wearing mink, Tom inferred.</td>\n    </tr>\n    <tr>\n      <th>24</th>\n      <td>199</td>\n      <td>heap</td>\n      <td>humerus</td>\n      <td>Arriving late, Senator Kennedy slipped on a b...</td>\n    </tr>\n    <tr>\n      <th>25</th>\n      <td>667</td>\n      <td>radium</td>\n      <td>curiously</td>\n      <td>\"Who discovered radium?\"asked Tom curiously.</td>\n    </tr>\n    <tr>\n      <th>26</th>\n      <td>148</td>\n      <td>graduated</td>\n      <td>diplomatically</td>\n      <td>\"Congratulations; you graduated,\" said Tom dip...</td>\n    </tr>\n    <tr>\n      <th>27</th>\n      <td>748</td>\n      <td>emirates</td>\n      <td>catarrh</td>\n      <td>My chronically runny-nosed friend, who staunc...</td>\n    </tr>\n    <tr>\n      <th>28</th>\n      <td>1148</td>\n      <td>claymore</td>\n      <td>mine</td>\n      <td>When asked to picture the perfect modern defe...</td>\n    </tr>\n  </tbody>\n</table>\n</div>"
     },
     "execution_count": 42,
     "metadata": {},
     "output_type": "execute_result"
    }
   ],
   "source": [
    "# Let's start evaluating with openai -- untrained\n",
    "\n",
    "import openai\n",
    "\n",
    "openai.api_key = ''\n",
    "# General, combined\n",
    "errDataFrame = pd.DataFrame(columns=['errorIndex', 'errorWord', 'realWord', 'sentence'])\n",
    "\n",
    "from sklearn.utils import shuffle\n",
    "gpt3dataFrame = shuffle(gpt3dataFrame)\n",
    "\n",
    "import re\n",
    "\n",
    "for index, row in gpt3dataFrame[0:100].iterrows():\n",
    "    prompt = row['prompt']\n",
    "    response = openai.Completion.create(\n",
    "      model=\"text-davinci-002\",\n",
    "      prompt=\"Find the Pun word in the prompt:\\n\\n\"+ prompt + \"\\n\\nPun word:\",\n",
    "      temperature=0,\n",
    "      max_tokens=256,\n",
    "      top_p=1,\n",
    "      frequency_penalty=0,\n",
    "      presence_penalty=0\n",
    "    )\n",
    "    openAiResponse = re.sub(r'[^a-zA-Z0-9]', '', response[\"choices\"][0][\"text\"].strip().lower())\n",
    "\n",
    "    if openAiResponse != re.sub(r'[^a-zA-Z0-9]', '', row['completion'].lower()):\n",
    "        appendDict = {\"errorIndex\":index, \"errorWord\":openAiResponse, 'realWord': re.sub(r'[^a-zA-Z0-9]', '', row['completion'].lower()), 'sentence':row['prompt']}\n",
    "        errDataFrame = pd.concat([errDataFrame, pd.DataFrame([appendDict])], ignore_index=True)\n",
    "\n",
    "errDataFrame"
   ],
   "metadata": {
    "collapsed": false,
    "pycharm": {
     "name": "#%%\n"
    }
   }
  },
  {
   "cell_type": "code",
   "execution_count": null,
   "outputs": [],
   "source": [],
   "metadata": {
    "collapsed": false,
    "pycharm": {
     "name": "#%%\n"
    }
   }
  },
  {
   "cell_type": "markdown",
   "source": [],
   "metadata": {
    "collapsed": false,
    "pycharm": {
     "name": "#%% md\n"
    }
   }
  },
  {
   "cell_type": "markdown",
   "source": [
    "Hyperparameter notes:\n",
    "\n",
    "*Seems that less capable model = more error\n",
    "higher temp = more error*"
   ],
   "metadata": {
    "collapsed": false,
    "pycharm": {
     "name": "#%% md\n"
    }
   }
  },
  {
   "cell_type": "markdown",
   "source": [
    "### Creating Training and Evaluation Split"
   ],
   "metadata": {
    "collapsed": false,
    "pycharm": {
     "name": "#%% md\n"
    }
   }
  },
  {
   "cell_type": "code",
   "execution_count": 21,
   "outputs": [
    {
     "name": "stdout",
     "output_type": "stream",
     "text": [
      "1269\n"
     ]
    }
   ],
   "source": [
    "gpt3dataFrame = shuffle(gpt3dataFrame)\n",
    "\n",
    "print(len(gpt3dataFrame))\n",
    "gpt3dataFrameTraining = gpt3dataFrame[0:1000]\n",
    "gpt3dataFrameTesting = gpt3dataFrame[1000:1270]\n",
    "\n",
    "out = gpt3dataFrameTraining.to_json('./temp.json', orient='records', lines=True)"
   ],
   "metadata": {
    "collapsed": false,
    "pycharm": {
     "name": "#%%\n"
    }
   }
  },
  {
   "cell_type": "markdown",
   "source": [
    "## Trained Model Evaluation"
   ],
   "metadata": {
    "collapsed": false,
    "pycharm": {
     "name": "#%% md\n"
    }
   }
  },
  {
   "cell_type": "code",
   "execution_count": 40,
   "outputs": [
    {
     "data": {
      "text/plain": "  errorIndex errorWord realWord  \\\n0        624     caber    whine   \n1        608      held    forth   \n2        244    donuts   greece   \n3        685        io   serial   \n4        168       abs     tone   \n\n                                            sentence  \n0   The steward refused to swallow the harsh whin...  \n1   \"I won't finish in fifth place,\" Tom held forth.  \n2   Did you know that donuts were first made in G...  \n3   Computers at breakfast food companies use ser...  \n4   The man leaned on the printer cartridge becau...  ",
      "text/html": "<div>\n<style scoped>\n    .dataframe tbody tr th:only-of-type {\n        vertical-align: middle;\n    }\n\n    .dataframe tbody tr th {\n        vertical-align: top;\n    }\n\n    .dataframe thead th {\n        text-align: right;\n    }\n</style>\n<table border=\"1\" class=\"dataframe\">\n  <thead>\n    <tr style=\"text-align: right;\">\n      <th></th>\n      <th>errorIndex</th>\n      <th>errorWord</th>\n      <th>realWord</th>\n      <th>sentence</th>\n    </tr>\n  </thead>\n  <tbody>\n    <tr>\n      <th>0</th>\n      <td>624</td>\n      <td>caber</td>\n      <td>whine</td>\n      <td>The steward refused to swallow the harsh whin...</td>\n    </tr>\n    <tr>\n      <th>1</th>\n      <td>608</td>\n      <td>held</td>\n      <td>forth</td>\n      <td>\"I won't finish in fifth place,\" Tom held forth.</td>\n    </tr>\n    <tr>\n      <th>2</th>\n      <td>244</td>\n      <td>donuts</td>\n      <td>greece</td>\n      <td>Did you know that donuts were first made in G...</td>\n    </tr>\n    <tr>\n      <th>3</th>\n      <td>685</td>\n      <td>io</td>\n      <td>serial</td>\n      <td>Computers at breakfast food companies use ser...</td>\n    </tr>\n    <tr>\n      <th>4</th>\n      <td>168</td>\n      <td>abs</td>\n      <td>tone</td>\n      <td>The man leaned on the printer cartridge becau...</td>\n    </tr>\n  </tbody>\n</table>\n</div>"
     },
     "execution_count": 40,
     "metadata": {},
     "output_type": "execute_result"
    }
   ],
   "source": [
    "errDataFrame = pd.DataFrame(columns=['errorIndex', 'errorWord', 'realWord', 'sentence'])\n",
    "\n",
    "for index, row in gpt3dataFrameTesting[0:100].iterrows():\n",
    "    prompt = row['prompt']\n",
    "    response = openai.Completion.create(\n",
    "      model=\"davinci:ft-personal-2022-10-02-22-42-09\",\n",
    "      prompt=prompt + \"->\",\n",
    "    )\n",
    "    groundTruth = re.sub(r'[^a-zA-Z0-9]', '', row['completion'].lower())\n",
    "\n",
    "    openAiResponse = re.sub(r'[^a-zA-Z0-9]', '', response[\"choices\"][0][\"text\"].strip().lower()[0:len(groundTruth)])\n",
    "\n",
    "    if openAiResponse != groundTruth:\n",
    "        appendDict = {\"errorIndex\":index, \"errorWord\":openAiResponse, 'realWord': re.sub(r'[^a-zA-Z0-9]', '', row['completion'].lower()), 'sentence':row['prompt']}\n",
    "        errDataFrame = pd.concat([errDataFrame, pd.DataFrame([appendDict])], ignore_index=True)\n",
    "\n",
    "errDataFrame"
   ],
   "metadata": {
    "collapsed": false,
    "pycharm": {
     "name": "#%%\n"
    }
   }
  }
 ],
 "metadata": {
  "kernelspec": {
   "display_name": "Python 3",
   "language": "python",
   "name": "python3"
  },
  "language_info": {
   "codemirror_mode": {
    "name": "ipython",
    "version": 2
   },
   "file_extension": ".py",
   "mimetype": "text/x-python",
   "name": "python",
   "nbconvert_exporter": "python",
   "pygments_lexer": "ipython2",
   "version": "2.7.6"
  }
 },
 "nbformat": 4,
 "nbformat_minor": 0
}